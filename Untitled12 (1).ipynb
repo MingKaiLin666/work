{
 "cells": [
  {
   "cell_type": "code",
   "execution_count": 1,
   "metadata": {},
   "outputs": [],
   "source": [
    "import numpy.random\n",
    "import os"
   ]
  },
  {
   "cell_type": "code",
   "execution_count": 2,
   "metadata": {},
   "outputs": [],
   "source": [
    "import numpy as np"
   ]
  },
  {
   "cell_type": "code",
   "execution_count": 3,
   "metadata": {},
   "outputs": [],
   "source": [
    "from IPython.display import clear_output"
   ]
  },
  {
   "cell_type": "code",
   "execution_count": 4,
   "metadata": {},
   "outputs": [],
   "source": [
    "class spy():\n",
    "    def __init__(self,dic,num=4):\n",
    "        self.dic=dic\n",
    "        self.num=num\n",
    "        self.items=[]\n",
    "        print(\"please use the start function\")\n",
    "    def additem(self,word1,word2):\n",
    "        a=open(self.dic,\"a\")\n",
    "        a.writelines([word1+\"\\n\",word2+\"\\n\"])\n",
    "    def resetPlayerNum(num):\n",
    "        self.num=num\n",
    "    def start(self):\n",
    "        self.items=[]\n",
    "        a=open(self.dic,\"r\")\n",
    "        for line in a:\n",
    "            self.items.append(line.split())\n",
    "        print(\"please use the play function\")\n",
    "    def printitems(self):\n",
    "        print(self.items)\n",
    "    def play(self):\n",
    "        a=numpy.random.randint(0,len(self.items)/2)\n",
    "        b=numpy.random.randint(0,2)\n",
    "        normal=self.items[2*a+b]\n",
    "        spy=self.items[2*a+1-b]\n",
    "        ID=np.zeros(self.num)\n",
    "        ID[numpy.random.randint(0,self.num)]+=self.num\n",
    "        for i in range(self.num):\n",
    "            \n",
    "            a=input(\"請按任意建\")\n",
    "            if ID[i]!=0:\n",
    "                print(\"%d號，你的是：%s\"%(i,spy))\n",
    "            else:\n",
    "                print(\"%d號，你的是：%s\"%(i,normal))\n",
    "            b=input(\"請按任意建\")\n",
    "            #os.system(\"cls\")\n",
    "            clear_output(wait=True)   \n",
    "        while sum(ID)>3:\n",
    "            print(\"活著的有:\",end=\"\")\n",
    "            for i in range(self.num):\n",
    "                if ID[i]>=0:\n",
    "                    print(\"%d號\"%i,end=\"\")\n",
    "            guess=int(input(\"你們覺得誰是臥底?:\"))\n",
    "            if ID[guess]==self.num:\n",
    "                print(\"遊戲結束，平民獲勝\")\n",
    "                break\n",
    "            else:\n",
    "                ID[guess]-=1\n",
    "                print(\"他不是臥底\")\n",
    "        if sum(ID)<=3:\n",
    "            print(\"遊戲結束，臥底獲勝\")\n",
    "        "
   ]
  },
  {
   "cell_type": "code",
   "execution_count": 5,
   "metadata": {},
   "outputs": [
    {
     "name": "stdout",
     "output_type": "stream",
     "text": [
      "please use the start function\n"
     ]
    }
   ],
   "source": [
    "a=spy(\"test.txt\",6)"
   ]
  },
  {
   "cell_type": "code",
   "execution_count": 6,
   "metadata": {},
   "outputs": [
    {
     "name": "stdout",
     "output_type": "stream",
     "text": [
      "please use the play function\n"
     ]
    }
   ],
   "source": [
    "a.start()"
   ]
  },
  {
   "cell_type": "code",
   "execution_count": 7,
   "metadata": {},
   "outputs": [
    {
     "name": "stdout",
     "output_type": "stream",
     "text": [
      "活著的有:0號1號2號3號4號5號你們覺得誰是臥底?:1\n",
      "他不是臥底\n",
      "活著的有:0號2號3號4號5號你們覺得誰是臥底?:1\n",
      "他不是臥底\n",
      "活著的有:0號2號3號4號5號你們覺得誰是臥底?:2\n",
      "他不是臥底\n",
      "遊戲結束，臥底獲勝\n"
     ]
    }
   ],
   "source": [
    "a.play()"
   ]
  },
  {
   "cell_type": "code",
   "execution_count": null,
   "metadata": {},
   "outputs": [],
   "source": []
  }
 ],
 "metadata": {
  "kernelspec": {
   "display_name": "Python 3",
   "language": "python",
   "name": "python3"
  },
  "language_info": {
   "codemirror_mode": {
    "name": "ipython",
    "version": 3
   },
   "file_extension": ".py",
   "mimetype": "text/x-python",
   "name": "python",
   "nbconvert_exporter": "python",
   "pygments_lexer": "ipython3",
   "version": "3.6.5"
  }
 },
 "nbformat": 4,
 "nbformat_minor": 2
}
