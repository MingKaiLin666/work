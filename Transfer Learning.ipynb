{
 "cells": [
  {
   "cell_type": "markdown",
   "metadata": {},
   "source": [
    "### 讀入基本套件 ###"
   ]
  },
  {
   "cell_type": "code",
   "execution_count": 1,
   "metadata": {},
   "outputs": [
    {
     "name": "stderr",
     "output_type": "stream",
     "text": [
      "/home/mingkai/.local/lib/python3.6/site-packages/tensorflow/python/framework/dtypes.py:526: FutureWarning: Passing (type, 1) or '1type' as a synonym of type is deprecated; in a future version of numpy, it will be understood as (type, (1,)) / '(1,)type'.\n",
      "  _np_qint8 = np.dtype([(\"qint8\", np.int8, 1)])\n",
      "/home/mingkai/.local/lib/python3.6/site-packages/tensorflow/python/framework/dtypes.py:527: FutureWarning: Passing (type, 1) or '1type' as a synonym of type is deprecated; in a future version of numpy, it will be understood as (type, (1,)) / '(1,)type'.\n",
      "  _np_quint8 = np.dtype([(\"quint8\", np.uint8, 1)])\n",
      "/home/mingkai/.local/lib/python3.6/site-packages/tensorflow/python/framework/dtypes.py:528: FutureWarning: Passing (type, 1) or '1type' as a synonym of type is deprecated; in a future version of numpy, it will be understood as (type, (1,)) / '(1,)type'.\n",
      "  _np_qint16 = np.dtype([(\"qint16\", np.int16, 1)])\n",
      "/home/mingkai/.local/lib/python3.6/site-packages/tensorflow/python/framework/dtypes.py:529: FutureWarning: Passing (type, 1) or '1type' as a synonym of type is deprecated; in a future version of numpy, it will be understood as (type, (1,)) / '(1,)type'.\n",
      "  _np_quint16 = np.dtype([(\"quint16\", np.uint16, 1)])\n",
      "/home/mingkai/.local/lib/python3.6/site-packages/tensorflow/python/framework/dtypes.py:530: FutureWarning: Passing (type, 1) or '1type' as a synonym of type is deprecated; in a future version of numpy, it will be understood as (type, (1,)) / '(1,)type'.\n",
      "  _np_qint32 = np.dtype([(\"qint32\", np.int32, 1)])\n",
      "/home/mingkai/.local/lib/python3.6/site-packages/tensorflow/python/framework/dtypes.py:535: FutureWarning: Passing (type, 1) or '1type' as a synonym of type is deprecated; in a future version of numpy, it will be understood as (type, (1,)) / '(1,)type'.\n",
      "  np_resource = np.dtype([(\"resource\", np.ubyte, 1)])\n"
     ]
    }
   ],
   "source": [
    "%matplotlib inline\n",
    "import pandas as pd\n",
    "import numpy as np\n",
    "import matplotlib.pyplot as plt\n",
    "import tensorflow as tf"
   ]
  },
  {
   "cell_type": "code",
   "execution_count": 2,
   "metadata": {},
   "outputs": [],
   "source": [
    "from tensorflow.keras.models import Sequential\n",
    "from tensorflow.keras.layers import Dense, Flatten\n",
    "from tensorflow.keras.layers import Conv2D, MaxPool2D, GlobalAveragePooling2D\n",
    "from tensorflow.keras.datasets import mnist, fashion_mnist\n",
    "from tensorflow.keras.optimizers import SGD, Adam\n",
    "from tensorflow.keras.utils import to_categorical"
   ]
  },
  {
   "cell_type": "markdown",
   "metadata": {},
   "source": [
    "### 進行資料預處理 ###"
   ]
  },
  {
   "cell_type": "code",
   "execution_count": 3,
   "metadata": {},
   "outputs": [],
   "source": [
    "(x_train, y_train0), (x_test, y_test0) = mnist.load_data()"
   ]
  },
  {
   "cell_type": "code",
   "execution_count": 4,
   "metadata": {},
   "outputs": [],
   "source": [
    "x_train = x_train/x_train.max()\n",
    "x_test = x_test/x_test.max()\n",
    "\n",
    "y_train = to_categorical(y_train0, 10)\n",
    "y_test = to_categorical(y_test0, 10)"
   ]
  },
  {
   "cell_type": "code",
   "execution_count": 5,
   "metadata": {},
   "outputs": [
    {
     "data": {
      "text/plain": [
       "(-0.5, 27.5, 27.5, -0.5)"
      ]
     },
     "execution_count": 5,
     "metadata": {},
     "output_type": "execute_result"
    },
    {
     "data": {
      "image/png": "[encoded data removed]",
      "text/plain": [
       "<matplotlib.figure.Figure at 0x7f3d06111518>"
      ]
     },
     "metadata": {
      "needs_background": "light"
     },
     "output_type": "display_data"
    }
   ],
   "source": [
    "name_list = ['1', '2', '3', '4', '5', '6', '7', '8', '9', \"10\"]\n",
    "idx = np.random.randint(x_train.shape[0])\n",
    "x_sample = x_train[idx]\n",
    "y_sample = y_train0[idx].squeeze()\n",
    "\n",
    "plt.imshow(x_sample)\n",
    "plt.title(name_list[y_sample])\n",
    "plt.axis('off')"
   ]
  },
  {
   "cell_type": "code",
   "execution_count": 6,
   "metadata": {},
   "outputs": [
    {
     "data": {
      "text/plain": [
       "(60000, 28, 28)"
      ]
     },
     "execution_count": 6,
     "metadata": {},
     "output_type": "execute_result"
    }
   ],
   "source": [
    "x_train.shape"
   ]
  },
  {
   "cell_type": "markdown",
   "metadata": {},
   "source": [
    "### 建構基本模型，並且更改其內部的一些參數 ###"
   ]
  },
  {
   "cell_type": "code",
   "execution_count": 7,
   "metadata": {},
   "outputs": [],
   "source": [
    "CNN_layer = [Conv2D(16, (3,3), input_shape = (28, 28, 1), padding = 'same', activation = 'relu', name='Conv_1'),\n",
    "            MaxPool2D(),\n",
    "            Conv2D(64, (3,3), padding = 'same', activation = 'relu', name='Conv_2'),\n",
    "            MaxPool2D(),\n",
    "            Conv2D(256, (3,3), padding = 'same', activation = 'relu', name = 'Conv_3'),\n",
    "            MaxPool2D(),\n",
    "            GlobalAveragePooling2D()]\n",
    "FC_layer = [Dense(128, activation = 'relu'),\n",
    "             Dense(10, activation = 'softmax')]"
   ]
  },
  {
   "cell_type": "code",
   "execution_count": 8,
   "metadata": {},
   "outputs": [
    {
     "name": "stdout",
     "output_type": "stream",
     "text": [
      "WARNING:tensorflow:From /home/mingkai/.local/lib/python3.6/site-packages/tensorflow/python/ops/resource_variable_ops.py:435: colocate_with (from tensorflow.python.framework.ops) is deprecated and will be removed in a future version.\n",
      "Instructions for updating:\n",
      "Colocations handled automatically by placer.\n"
     ]
    }
   ],
   "source": [
    "model = Sequential(CNN_layer + FC_layer)"
   ]
  },
  {
   "cell_type": "code",
   "execution_count": 9,
   "metadata": {},
   "outputs": [
    {
     "name": "stdout",
     "output_type": "stream",
     "text": [
      "_________________________________________________________________\n",
      "Layer (type)                 Output Shape              Param #   \n",
      "=================================================================\n",
      "Conv_1 (Conv2D)              (None, 28, 28, 16)        160       \n",
      "_________________________________________________________________\n",
      "max_pooling2d (MaxPooling2D) (None, 14, 14, 16)        0         \n",
      "_________________________________________________________________\n",
      "Conv_2 (Conv2D)              (None, 14, 14, 64)        9280      \n",
      "_________________________________________________________________\n",
      "max_pooling2d_1 (MaxPooling2 (None, 7, 7, 64)          0         \n",
      "_________________________________________________________________\n",
      "Conv_3 (Conv2D)              (None, 7, 7, 256)         147712    \n",
      "_________________________________________________________________\n",
      "max_pooling2d_2 (MaxPooling2 (None, 3, 3, 256)         0         \n",
      "_________________________________________________________________\n",
      "global_average_pooling2d (Gl (None, 256)               0         \n",
      "_________________________________________________________________\n",
      "dense (Dense)                (None, 128)               32896     \n",
      "_________________________________________________________________\n",
      "dense_1 (Dense)              (None, 10)                1290      \n",
      "=================================================================\n",
      "Total params: 191,338\n",
      "Trainable params: 191,338\n",
      "Non-trainable params: 0\n",
      "_________________________________________________________________\n"
     ]
    }
   ],
   "source": [
    "model.summary()"
   ]
  },
  {
   "cell_type": "code",
   "execution_count": 10,
   "metadata": {},
   "outputs": [],
   "source": [
    "model.compile(loss='categorical_crossentropy', \n",
    "                optimizer=Adam(),\n",
    "                metrics=['categorical_accuracy'])\n"
   ]
  },
  {
   "cell_type": "code",
   "execution_count": 11,
   "metadata": {},
   "outputs": [],
   "source": [
    "x_train=x_train.reshape(60000,28,28,1)\n",
    "x_test=x_test.reshape(10000,28,28,1)"
   ]
  },
  {
   "cell_type": "code",
   "execution_count": 12,
   "metadata": {},
   "outputs": [
    {
     "name": "stdout",
     "output_type": "stream",
     "text": [
      "Train on 60000 samples, validate on 10000 samples\n",
      "WARNING:tensorflow:From /home/mingkai/.local/lib/python3.6/site-packages/tensorflow/python/ops/math_ops.py:3066: to_int32 (from tensorflow.python.ops.math_ops) is deprecated and will be removed in a future version.\n",
      "Instructions for updating:\n",
      "Use tf.cast instead.\n",
      "Epoch 1/10\n",
      "60000/60000 [==============================] - 29s 476us/sample - loss: 0.4680 - categorical_accuracy: 0.8535 - val_loss: 0.1489 - val_categorical_accuracy: 0.9547\n",
      "Epoch 2/10\n",
      "60000/60000 [==============================] - 27s 450us/sample - loss: 0.1246 - categorical_accuracy: 0.9616 - val_loss: 0.0750 - val_categorical_accuracy: 0.9772\n",
      "Epoch 3/10\n",
      "60000/60000 [==============================] - 26s 435us/sample - loss: 0.0868 - categorical_accuracy: 0.9736 - val_loss: 0.0588 - val_categorical_accuracy: 0.9819\n",
      "Epoch 4/10\n",
      "60000/60000 [==============================] - 30s 492us/sample - loss: 0.0684 - categorical_accuracy: 0.9787 - val_loss: 0.0560 - val_categorical_accuracy: 0.9823\n",
      "Epoch 5/10\n",
      "60000/60000 [==============================] - 32s 538us/sample - loss: 0.0511 - categorical_accuracy: 0.9843 - val_loss: 0.0577 - val_categorical_accuracy: 0.9811\n",
      "Epoch 6/10\n",
      "60000/60000 [==============================] - 30s 498us/sample - loss: 0.0457 - categorical_accuracy: 0.9859 - val_loss: 0.0316 - val_categorical_accuracy: 0.9898\n",
      "Epoch 7/10\n",
      "60000/60000 [==============================] - 29s 479us/sample - loss: 0.0387 - categorical_accuracy: 0.9875 - val_loss: 0.0382 - val_categorical_accuracy: 0.9869\n",
      "Epoch 8/10\n",
      "60000/60000 [==============================] - 29s 477us/sample - loss: 0.0320 - categorical_accuracy: 0.9897 - val_loss: 0.0372 - val_categorical_accuracy: 0.9881\n",
      "Epoch 9/10\n",
      "60000/60000 [==============================] - 29s 476us/sample - loss: 0.0288 - categorical_accuracy: 0.9909 - val_loss: 0.0238 - val_categorical_accuracy: 0.9912\n",
      "Epoch 10/10\n",
      "60000/60000 [==============================] - 29s 480us/sample - loss: 0.0260 - categorical_accuracy: 0.9914 - val_loss: 0.0352 - val_categorical_accuracy: 0.9894\n"
     ]
    },
    {
     "data": {
      "text/plain": [
       "<tensorflow.python.keras.callbacks.History at 0x7f3d02fa86d8>"
      ]
     },
     "execution_count": 12,
     "metadata": {},
     "output_type": "execute_result"
    }
   ],
   "source": [
    "model.fit(x_train, y_train, batch_size = 100, epochs = 10, validation_data = (x_test, y_test), shuffle = True)"
   ]
  },
  {
   "cell_type": "code",
   "execution_count": 13,
   "metadata": {},
   "outputs": [
    {
     "name": "stdout",
     "output_type": "stream",
     "text": [
      "60000/60000 [==============================] - 9s 149us/sample - loss: 0.0269 - categorical_accuracy: 0.9914\n",
      "10000/10000 [==============================] - 1s 149us/sample - loss: 0.0352 - categorical_accuracy: 0.9894\n"
     ]
    }
   ],
   "source": [
    "score_train = model.evaluate(x_train, y_train)\n",
    "score_test = model.evaluate(x_test, y_test)"
   ]
  },
  {
   "cell_type": "code",
   "execution_count": 14,
   "metadata": {},
   "outputs": [
    {
     "name": "stdout",
     "output_type": "stream",
     "text": [
      "train_score:0.9913833141326904\n",
      "test_score:0.9894000291824341\n"
     ]
    }
   ],
   "source": [
    "print(f'train_score:{score_train[1]}')\n",
    "print(f'test_score:{score_test[1]}')"
   ]
  },
  {
   "cell_type": "markdown",
   "metadata": {},
   "source": [
    "### 選擇不同的遷移目標 ###"
   ]
  },
  {
   "cell_type": "code",
   "execution_count": 15,
   "metadata": {},
   "outputs": [],
   "source": [
    "(x_train1, y_train1), (x_test1, y_test1) = fashion_mnist.load_data()"
   ]
  },
  {
   "cell_type": "code",
   "execution_count": 16,
   "metadata": {},
   "outputs": [],
   "source": [
    "x_train1 = x_train1/x_train1.max()\n",
    "x_test1 = x_test1/x_test1.max()\n",
    "x_train1=x_train1.reshape(60000,28,28,1)\n",
    "x_test1=x_test1.reshape(10000,28,28,1)\n",
    "\n",
    "y_train1 = to_categorical(y_train1, 10)\n",
    "y_test1 = to_categorical(y_test1, 10)"
   ]
  },
  {
   "cell_type": "code",
   "execution_count": 17,
   "metadata": {},
   "outputs": [],
   "source": [
    "cnn_layer = [Conv2D(32, (3,3),input_shape = (28, 28, 1), padding = 'same', activation = 'relu', name = 'conv_1' ),\n",
    "            MaxPool2D(),\n",
    "            Conv2D(64, (3,3), padding = 'same', activation = 'relu', name = 'conv_2'),\n",
    "            MaxPool2D(),\n",
    "            Conv2D(256, (5,5), padding = 'same', activation = 'relu', name = 'conv_3'),\n",
    "            GlobalAveragePooling2D()]"
   ]
  },
  {
   "cell_type": "code",
   "execution_count": 18,
   "metadata": {},
   "outputs": [],
   "source": [
    "model1 = Sequential(cnn_layer + FC_layer)"
   ]
  },
  {
   "cell_type": "code",
   "execution_count": 19,
   "metadata": {},
   "outputs": [
    {
     "name": "stdout",
     "output_type": "stream",
     "text": [
      "_________________________________________________________________\n",
      "Layer (type)                 Output Shape              Param #   \n",
      "=================================================================\n",
      "conv_1 (Conv2D)              (None, 28, 28, 32)        320       \n",
      "_________________________________________________________________\n",
      "max_pooling2d_3 (MaxPooling2 (None, 14, 14, 32)        0         \n",
      "_________________________________________________________________\n",
      "conv_2 (Conv2D)              (None, 14, 14, 64)        18496     \n",
      "_________________________________________________________________\n",
      "max_pooling2d_4 (MaxPooling2 (None, 7, 7, 64)          0         \n",
      "_________________________________________________________________\n",
      "conv_3 (Conv2D)              (None, 7, 7, 256)         409856    \n",
      "_________________________________________________________________\n",
      "global_average_pooling2d_1 ( (None, 256)               0         \n",
      "_________________________________________________________________\n",
      "dense (Dense)                (None, 128)               32896     \n",
      "_________________________________________________________________\n",
      "dense_1 (Dense)              (None, 10)                1290      \n",
      "=================================================================\n",
      "Total params: 462,858\n",
      "Trainable params: 462,858\n",
      "Non-trainable params: 0\n",
      "_________________________________________________________________\n"
     ]
    }
   ],
   "source": [
    "model1.summary()"
   ]
  },
  {
   "cell_type": "code",
   "execution_count": 20,
   "metadata": {},
   "outputs": [],
   "source": [
    "for layer in FC_layer:\n",
    "    layer.trainable = False"
   ]
  },
  {
   "cell_type": "code",
   "execution_count": 21,
   "metadata": {},
   "outputs": [],
   "source": [
    "model1.compile(loss = 'categorical_crossentropy',\n",
    "              optimizer = Adam(),\n",
    "              metrics = ['categorical_accuracy'])"
   ]
  },
  {
   "cell_type": "code",
   "execution_count": 22,
   "metadata": {},
   "outputs": [
    {
     "name": "stdout",
     "output_type": "stream",
     "text": [
      "Train on 60000 samples, validate on 10000 samples\n",
      "Epoch 1/10\n",
      "60000/60000 [==============================] - 60s 1ms/sample - loss: 0.7065 - categorical_accuracy: 0.7461 - val_loss: 0.5357 - val_categorical_accuracy: 0.8092\n",
      "Epoch 2/10\n",
      "60000/60000 [==============================] - 60s 1ms/sample - loss: 0.4636 - categorical_accuracy: 0.8360 - val_loss: 0.4198 - val_categorical_accuracy: 0.8488\n",
      "Epoch 3/10\n",
      "60000/60000 [==============================] - 60s 1ms/sample - loss: 0.3867 - categorical_accuracy: 0.8629 - val_loss: 0.3889 - val_categorical_accuracy: 0.8602\n",
      "Epoch 4/10\n",
      "60000/60000 [==============================] - 60s 1ms/sample - loss: 0.3510 - categorical_accuracy: 0.8738 - val_loss: 0.3998 - val_categorical_accuracy: 0.8608\n",
      "Epoch 5/10\n",
      "60000/60000 [==============================] - 61s 1ms/sample - loss: 0.3249 - categorical_accuracy: 0.8846 - val_loss: 0.3303 - val_categorical_accuracy: 0.8810\n",
      "Epoch 6/10\n",
      "60000/60000 [==============================] - 60s 994us/sample - loss: 0.2978 - categorical_accuracy: 0.8930 - val_loss: 0.3280 - val_categorical_accuracy: 0.8841\n",
      "Epoch 7/10\n",
      "60000/60000 [==============================] - 60s 994us/sample - loss: 0.2817 - categorical_accuracy: 0.8987 - val_loss: 0.2927 - val_categorical_accuracy: 0.8972\n",
      "Epoch 8/10\n",
      "60000/60000 [==============================] - 60s 995us/sample - loss: 0.2680 - categorical_accuracy: 0.9044 - val_loss: 0.2919 - val_categorical_accuracy: 0.8975\n",
      "Epoch 9/10\n",
      "60000/60000 [==============================] - 60s 994us/sample - loss: 0.2533 - categorical_accuracy: 0.9091 - val_loss: 0.3044 - val_categorical_accuracy: 0.8919\n",
      "Epoch 10/10\n",
      "60000/60000 [==============================] - 60s 995us/sample - loss: 0.2460 - categorical_accuracy: 0.9117 - val_loss: 0.2703 - val_categorical_accuracy: 0.9050\n"
     ]
    },
    {
     "data": {
      "text/plain": [
       "<tensorflow.python.keras.callbacks.History at 0x7f3ce04d4e48>"
      ]
     },
     "execution_count": 22,
     "metadata": {},
     "output_type": "execute_result"
    }
   ],
   "source": [
    "model1.fit(x_train1, y_train1, epochs = 10, batch_size = 100, validation_data = (x_test1, y_test1), shuffle= True )"
   ]
  },
  {
   "cell_type": "code",
   "execution_count": 23,
   "metadata": {},
   "outputs": [
    {
     "name": "stdout",
     "output_type": "stream",
     "text": [
      "60000/60000 [==============================] - 17s 285us/sample - loss: 0.2208 - categorical_accuracy: 0.9206\n",
      "10000/10000 [==============================] - 3s 287us/sample - loss: 0.2703 - categorical_accuracy: 0.9050\n",
      "Train Accuracy: 92.05999970436096\n",
      "Test Accuracy: 90.49999713897705\n"
     ]
    }
   ],
   "source": [
    "score_train1 = model1.evaluate(x_train1, y_train1)\n",
    "score_test1 = model1.evaluate(x_test1, y_test1)\n",
    "\n",
    "print(f'Train Accuracy: {score_train1[1]*100}')\n",
    "print(f'Test Accuracy: {score_test1[1]*100}')"
   ]
  },
  {
   "cell_type": "code",
   "execution_count": null,
   "metadata": {},
   "outputs": [],
   "source": []
  },
  {
   "cell_type": "code",
   "execution_count": null,
   "metadata": {},
   "outputs": [],
   "source": []
  },
  {
   "cell_type": "code",
   "execution_count": null,
   "metadata": {},
   "outputs": [],
   "source": []
  },
  {
   "cell_type": "code",
   "execution_count": null,
   "metadata": {},
   "outputs": [],
   "source": []
  },
  {
   "cell_type": "code",
   "execution_count": null,
   "metadata": {},
   "outputs": [],
   "source": []
  }
 ],
 "metadata": {
  "kernelspec": {
   "display_name": "Python 3",
   "language": "python",
   "name": "python3"
  },
  "language_info": {
   "codemirror_mode": {
    "name": "ipython",
    "version": 3
   },
   "file_extension": ".py",
   "mimetype": "text/x-python",
   "name": "python",
   "nbconvert_exporter": "python",
   "pygments_lexer": "ipython3",
   "version": "3.6.9"
  }
 },
 "nbformat": 4,
 "nbformat_minor": 4
}
